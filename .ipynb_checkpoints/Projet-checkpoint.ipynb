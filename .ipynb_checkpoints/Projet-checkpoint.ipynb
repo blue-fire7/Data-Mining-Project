{
 "cells": [
  {
   "cell_type": "markdown",
   "id": "875e739e-08a9-4a3b-a85b-756915a036b5",
   "metadata": {},
   "source": [
    "# Projet Machine Learning"
   ]
  },
  {
   "cell_type": "markdown",
   "id": "f50c98a9",
   "metadata": {},
   "source": [
    "## Imports"
   ]
  },
  {
   "cell_type": "code",
   "execution_count": 38,
   "id": "16322fed",
   "metadata": {},
   "outputs": [],
   "source": [
    "import sys\n",
    "from SPARQLWrapper import SPARQLWrapper, JSON\n",
    "import pandas as pd\n",
    "import requests\n",
    "import shutil\n",
    "import numpy\n",
    "import math\n",
    "import os\n",
    "import json\n",
    "from PIL import Image\n",
    "from collections import defaultdict\n",
    "from ipywidgets import GridspecLayout, Image, interact, widgets\n",
    "from scipy.spatial import KDTree\n",
    "from matplotlib import pyplot as plt, image as mpimg\n",
    "from sklearn.cluster import KMeans\n",
    "import webcolors\n",
    "from webcolors import CSS3_NAMES_TO_HEX, rgb_to_name"
   ]
  },
  {
   "cell_type": "markdown",
   "id": "dab84f52",
   "metadata": {},
   "source": [
    "## 1 : Téléchargement des Images Wikidata"
   ]
  },
  {
   "cell_type": "code",
   "execution_count": 1,
   "id": "f36c003e",
   "metadata": {},
   "outputs": [
    {
     "ename": "ModuleNotFoundError",
     "evalue": "No module named 'SPARQLWrapper'",
     "output_type": "error",
     "traceback": [
      "\u001b[0;31m---------------------------------------------------------------------------\u001b[0m",
      "\u001b[0;31mModuleNotFoundError\u001b[0m                       Traceback (most recent call last)",
      "Cell \u001b[0;32mIn[1], line 2\u001b[0m\n\u001b[1;32m      1\u001b[0m \u001b[38;5;28;01mimport\u001b[39;00m \u001b[38;5;21;01msys\u001b[39;00m\n\u001b[0;32m----> 2\u001b[0m \u001b[38;5;28;01mfrom\u001b[39;00m \u001b[38;5;21;01mSPARQLWrapper\u001b[39;00m \u001b[38;5;28;01mimport\u001b[39;00m SPARQLWrapper, JSON\n\u001b[1;32m      4\u001b[0m endpoint_url \u001b[38;5;241m=\u001b[39m \u001b[38;5;124m\"\u001b[39m\u001b[38;5;124mhttps://query.wikidata.org/sparql\u001b[39m\u001b[38;5;124m\"\u001b[39m\n\u001b[1;32m      6\u001b[0m \u001b[38;5;66;03m# Get cars\u001b[39;00m\n",
      "\u001b[0;31mModuleNotFoundError\u001b[0m: No module named 'SPARQLWrapper'"
     ]
    }
   ],
   "source": [
    "endpoint_url = \"https://query.wikidata.org/sparql\"\n",
    "\n",
    "# Get cars\n",
    "query = \"\"\"SELECT DISTINCT ?item ?itemLabel (SAMPLE(?image) AS ?sampleImage)  \n",
    "WHERE\n",
    "{\n",
    "  ?item wdt:P279 wd:Q1420;\n",
    "        wdt:P18 ?image.\n",
    "\n",
    "  SERVICE wikibase:label { bd:serviceParam wikibase:language \"[AUTO_LANGUAGE],fr\". }\n",
    "}\n",
    "GROUP BY ?item ?itemLabel\n",
    "LIMIT 150\n",
    "\"\"\"\n",
    "\n",
    "\n",
    "def get_results(endpoint_url, query):\n",
    "    user_agent = \"WDQS-example Python/%s.%s\" % (\n",
    "        sys.version_info[0],\n",
    "        sys.version_info[1],\n",
    "    )\n",
    "    sparql = SPARQLWrapper(endpoint_url, agent=user_agent)\n",
    "    sparql.setQuery(query)\n",
    "    sparql.setReturnFormat(JSON)\n",
    "    return sparql.query().convert()\n",
    "\n",
    "\n",
    "array = []\n",
    "results = get_results(endpoint_url, query)\n",
    "\n",
    "print(results)\n",
    "\n",
    "for result in results[\"results\"][\"bindings\"]:\n",
    "    array.append(\n",
    "        (\n",
    "            result[\"item\"][\"value\"],\n",
    "            result[\"itemLabel\"][\"value\"],\n",
    "            result[\"sampleImage\"][\"value\"],\n",
    "        )\n",
    "    )"
   ]
  },
  {
   "cell_type": "code",
   "execution_count": 37,
   "id": "34e8a1c9",
   "metadata": {},
   "outputs": [
    {
     "name": "stderr",
     "output_type": "stream",
     "text": [
      "C:\\Users\\grego\\anaconda3\\lib\\site-packages\\pandas\\core\\computation\\expressions.py:21: UserWarning: Pandas requires version '2.8.4' or newer of 'numexpr' (version '2.7.3' currently installed).\n",
      "  from pandas.core.computation.check import NUMEXPR_INSTALLED\n",
      "C:\\Users\\grego\\anaconda3\\lib\\site-packages\\pandas\\core\\arrays\\masked.py:60: UserWarning: Pandas requires version '1.3.6' or newer of 'bottleneck' (version '1.3.2' currently installed).\n",
      "  from pandas.core import (\n"
     ]
    },
    {
     "data": {
      "text/html": [
       "<div>\n",
       "<style scoped>\n",
       "    .dataframe tbody tr th:only-of-type {\n",
       "        vertical-align: middle;\n",
       "    }\n",
       "\n",
       "    .dataframe tbody tr th {\n",
       "        vertical-align: top;\n",
       "    }\n",
       "\n",
       "    .dataframe thead th {\n",
       "        text-align: right;\n",
       "    }\n",
       "</style>\n",
       "<table border=\"1\" class=\"dataframe\">\n",
       "  <thead>\n",
       "    <tr style=\"text-align: right;\">\n",
       "      <th></th>\n",
       "      <th>id</th>\n",
       "      <th>nom</th>\n",
       "      <th>image</th>\n",
       "    </tr>\n",
       "  </thead>\n",
       "  <tbody>\n",
       "    <tr>\n",
       "      <th>0</th>\n",
       "      <td>http://www.wikidata.org/entity/Q4050653</td>\n",
       "      <td>Q4050653</td>\n",
       "      <td>http://commons.wikimedia.org/wiki/Special:File...</td>\n",
       "    </tr>\n",
       "    <tr>\n",
       "      <th>1</th>\n",
       "      <td>http://www.wikidata.org/entity/Q111208461</td>\n",
       "      <td>DS E-Tense Performance Concept</td>\n",
       "      <td>http://commons.wikimedia.org/wiki/Special:File...</td>\n",
       "    </tr>\n",
       "    <tr>\n",
       "      <th>2</th>\n",
       "      <td>http://www.wikidata.org/entity/Q17073503</td>\n",
       "      <td>Q17073503</td>\n",
       "      <td>http://commons.wikimedia.org/wiki/Special:File...</td>\n",
       "    </tr>\n",
       "    <tr>\n",
       "      <th>3</th>\n",
       "      <td>http://www.wikidata.org/entity/Q117232744</td>\n",
       "      <td>Kia Concept EV5</td>\n",
       "      <td>http://commons.wikimedia.org/wiki/Special:File...</td>\n",
       "    </tr>\n",
       "    <tr>\n",
       "      <th>4</th>\n",
       "      <td>http://www.wikidata.org/entity/Q113039073</td>\n",
       "      <td>Q113039073</td>\n",
       "      <td>http://commons.wikimedia.org/wiki/Special:File...</td>\n",
       "    </tr>\n",
       "    <tr>\n",
       "      <th>...</th>\n",
       "      <td>...</td>\n",
       "      <td>...</td>\n",
       "      <td>...</td>\n",
       "    </tr>\n",
       "    <tr>\n",
       "      <th>145</th>\n",
       "      <td>http://www.wikidata.org/entity/Q7976422</td>\n",
       "      <td>Wayne Lifeguard</td>\n",
       "      <td>http://commons.wikimedia.org/wiki/Special:File...</td>\n",
       "    </tr>\n",
       "    <tr>\n",
       "      <th>146</th>\n",
       "      <td>http://www.wikidata.org/entity/Q104599203</td>\n",
       "      <td>Q104599203</td>\n",
       "      <td>http://commons.wikimedia.org/wiki/Special:File...</td>\n",
       "    </tr>\n",
       "    <tr>\n",
       "      <th>147</th>\n",
       "      <td>http://www.wikidata.org/entity/Q42847657</td>\n",
       "      <td>Q42847657</td>\n",
       "      <td>http://commons.wikimedia.org/wiki/Special:File...</td>\n",
       "    </tr>\n",
       "    <tr>\n",
       "      <th>148</th>\n",
       "      <td>http://www.wikidata.org/entity/Q1436782</td>\n",
       "      <td>Ford Contour</td>\n",
       "      <td>http://commons.wikimedia.org/wiki/Special:File...</td>\n",
       "    </tr>\n",
       "    <tr>\n",
       "      <th>149</th>\n",
       "      <td>http://www.wikidata.org/entity/Q2626308</td>\n",
       "      <td>Toyota Sprinter Trueno</td>\n",
       "      <td>http://commons.wikimedia.org/wiki/Special:File...</td>\n",
       "    </tr>\n",
       "  </tbody>\n",
       "</table>\n",
       "<p>150 rows × 3 columns</p>\n",
       "</div>"
      ],
      "text/plain": [
       "                                            id  \\\n",
       "0      http://www.wikidata.org/entity/Q4050653   \n",
       "1    http://www.wikidata.org/entity/Q111208461   \n",
       "2     http://www.wikidata.org/entity/Q17073503   \n",
       "3    http://www.wikidata.org/entity/Q117232744   \n",
       "4    http://www.wikidata.org/entity/Q113039073   \n",
       "..                                         ...   \n",
       "145    http://www.wikidata.org/entity/Q7976422   \n",
       "146  http://www.wikidata.org/entity/Q104599203   \n",
       "147   http://www.wikidata.org/entity/Q42847657   \n",
       "148    http://www.wikidata.org/entity/Q1436782   \n",
       "149    http://www.wikidata.org/entity/Q2626308   \n",
       "\n",
       "                                nom  \\\n",
       "0                          Q4050653   \n",
       "1    DS E-Tense Performance Concept   \n",
       "2                         Q17073503   \n",
       "3                   Kia Concept EV5   \n",
       "4                        Q113039073   \n",
       "..                              ...   \n",
       "145                 Wayne Lifeguard   \n",
       "146                      Q104599203   \n",
       "147                       Q42847657   \n",
       "148                    Ford Contour   \n",
       "149          Toyota Sprinter Trueno   \n",
       "\n",
       "                                                 image  \n",
       "0    http://commons.wikimedia.org/wiki/Special:File...  \n",
       "1    http://commons.wikimedia.org/wiki/Special:File...  \n",
       "2    http://commons.wikimedia.org/wiki/Special:File...  \n",
       "3    http://commons.wikimedia.org/wiki/Special:File...  \n",
       "4    http://commons.wikimedia.org/wiki/Special:File...  \n",
       "..                                                 ...  \n",
       "145  http://commons.wikimedia.org/wiki/Special:File...  \n",
       "146  http://commons.wikimedia.org/wiki/Special:File...  \n",
       "147  http://commons.wikimedia.org/wiki/Special:File...  \n",
       "148  http://commons.wikimedia.org/wiki/Special:File...  \n",
       "149  http://commons.wikimedia.org/wiki/Special:File...  \n",
       "\n",
       "[150 rows x 3 columns]"
      ]
     },
     "execution_count": 37,
     "metadata": {},
     "output_type": "execute_result"
    }
   ],
   "source": [
    "dataframe = pd.DataFrame(array, columns=[\"id\", \"nom\", \"image\"])\n",
    "dataframe = dataframe.astype(\n",
    "    dtype={\"id\": \"<U200\", \"nom\": \"<U200\", \"image\": \"<U200\"}\n",
    ")\n",
    "dataframe"
   ]
  },
  {
   "cell_type": "code",
   "execution_count": 38,
   "id": "350ca825",
   "metadata": {},
   "outputs": [],
   "source": [
    "def download_image(url):\n",
    "    headers = {\"User-Agent\": \"Mozilla/5.0\"}\n",
    "    request = requests.get(url, allow_redirects=True, headers=headers, stream=True)\n",
    "    if request.status_code == 200:\n",
    "        if not os.path.exists('Images'):\n",
    "            os.makedirs('Images')\n",
    "        filename = os.path.join('Images', os.path.basename(url))\n",
    "        with open(filename, \"wb\") as image:\n",
    "            request.raw.decode_content = True\n",
    "            shutil.copyfileobj(request.raw, image)\n",
    "        return filename\n",
    "    else:\n",
    "        return None"
   ]
  },
  {
   "cell_type": "code",
   "execution_count": 39,
   "id": "53e6f8fd",
   "metadata": {},
   "outputs": [
    {
     "data": {
      "text/plain": [
       "0          Images\\MPM%20PS%20160%20%2839851917005%29.jpg\n",
       "1      Images\\DS%20E-Tense%20-%20FAI%202017%20%281-3%...\n",
       "2      Images\\Berliet%20%27Dauphine%27%20berline%20ca...\n",
       "3                 Images\\Kia%20EV5%20Concept%20IMG01.jpg\n",
       "4      Images\\1909%20Lane%20Steam%20Cars%20Brochure%2...\n",
       "                             ...                        \n",
       "145    Images\\Virginia%20Overland%20Bus%20365%201988%...\n",
       "146    Images\\Iveco%20Manticore%20MTV%20prototype%201...\n",
       "147    Images\\WMC%20P%20AS17%20Bentley%20EXP%2012%20S...\n",
       "148           Images\\1998-2000%20Ford%20Contour%20SE.jpg\n",
       "149    Images\\Toyota%20E-AE86%20Sprinter%20Trueno%20G...\n",
       "Name: image, Length: 150, dtype: object"
      ]
     },
     "execution_count": 39,
     "metadata": {},
     "output_type": "execute_result"
    }
   ],
   "source": [
    "dataframe.image.apply(download_image)"
   ]
  },
  {
   "cell_type": "markdown",
   "id": "b225d98e",
   "metadata": {},
   "source": [
    "### On renomme les images"
   ]
  },
  {
   "cell_type": "code",
   "execution_count": 40,
   "id": "eb5eb0f2",
   "metadata": {},
   "outputs": [
    {
     "name": "stdout",
     "output_type": "stream",
     "text": [
      "Images renommées\n"
     ]
    }
   ],
   "source": [
    "# Chemin du dossier contenant les images\n",
    "dossier_images = \"Images\"\n",
    "\n",
    "# Liste des extensions d'images supportées\n",
    "extensions_images = [\".jpg\", \".jpeg\", \".png\", \".gif\", \".bmp\"]\n",
    "\n",
    "# Fonction pour renommer les images\n",
    "def renommer_images(dossier, prefixe=\"Image_\"):\n",
    "    # Récupérer la liste des fichiers dans le dossier et les trier\n",
    "    fichiers = sorted([fichier for fichier in os.listdir(dossier) if any(fichier.lower().endswith(ext) for ext in extensions_images)])\n",
    "    \n",
    "    # Compteur pour générer les nouveaux noms\n",
    "    compteur = 1\n",
    "    # Parcourir tous les fichiers\n",
    "    for fichier in fichiers:\n",
    "        # Construire le nouveau nom du fichier\n",
    "        nouveau_nom = f\"{prefixe}{compteur}{os.path.splitext(fichier)[1]}\"\n",
    "        # Renommer le fichier\n",
    "        os.rename(os.path.join(dossier, fichier), os.path.join(dossier, nouveau_nom))\n",
    "        # Incrémenter le compteur\n",
    "        compteur += 1\n",
    "        \n",
    "    print(\"Images renommées\")\n",
    "\n",
    "# Appeler la fonction pour renommer les images dans le dossier spécifié\n",
    "renommer_images(dossier_images)\n"
   ]
  },
  {
   "cell_type": "markdown",
   "id": "0b9c971e-d243-47a3-b172-e8dcdbd6e945",
   "metadata": {},
   "source": [
    "## 2 : Extraire les métadonnées"
   ]
  },
  {
   "cell_type": "code",
   "execution_count": 51,
   "id": "a2073396",
   "metadata": {},
   "outputs": [
    {
     "name": "stdout",
     "output_type": "stream",
     "text": [
      "./Images/Image_1.JPG\n",
      "./Images/Image_10.jpg\n",
      "./Images/Image_100.jpg\n",
      "./Images/Image_101.jpg\n",
      "./Images/Image_102.jpg\n",
      "./Images/Image_103.jpg\n",
      "./Images/Image_104.jpg\n",
      "./Images/Image_105.jpg\n",
      "./Images/Image_106.jpg\n",
      "./Images/Image_107.jpg\n",
      "./Images/Image_108.jpg\n",
      "./Images/Image_109.jpg\n",
      "./Images/Image_11.jpg\n",
      "./Images/Image_110.jpg\n",
      "./Images/Image_111.JPG\n",
      "./Images/Image_112.JPG\n",
      "./Images/Image_113.jpg\n",
      "./Images/Image_114.jpg\n",
      "./Images/Image_115.jpg\n",
      "./Images/Image_116.jpg\n",
      "./Images/Image_117.JPG\n",
      "./Images/Image_118.JPG\n",
      "./Images/Image_119.jpg\n",
      "./Images/Image_12.jpg\n",
      "./Images/Image_120.jpg\n",
      "./Images/Image_121.jpg\n",
      "./Images/Image_122.jpg\n",
      "./Images/Image_123.jpg\n",
      "./Images/Image_124.JPG\n",
      "./Images/Image_125.jpg\n",
      "./Images/Image_126.jpg\n",
      "./Images/Image_127.jpg\n",
      "./Images/Image_128.jpg\n",
      "./Images/Image_129.JPG\n",
      "./Images/Image_13.jpg\n",
      "./Images/Image_130.jpg\n",
      "./Images/Image_131.jpeg\n",
      "./Images/Image_132.jpg\n",
      "./Images/Image_133.jpg\n",
      "./Images/Image_134.jpg\n",
      "./Images/Image_135.jpg\n",
      "./Images/Image_136.jpg\n",
      "./Images/Image_137.jpg\n",
      "./Images/Image_138.jpg\n",
      "./Images/Image_139.jpg\n",
      "./Images/Image_14.jpg\n",
      "./Images/Image_140.jpg\n",
      "./Images/Image_141.jpg\n",
      "./Images/Image_142.jpg\n",
      "./Images/Image_143.jpg\n",
      "./Images/Image_144.jpg\n",
      "./Images/Image_145.jpg\n",
      "./Images/Image_146.jpg\n",
      "./Images/Image_147.JPG\n",
      "./Images/Image_148.jpg\n",
      "./Images/Image_149.jpg\n",
      "./Images/Image_15.JPG\n",
      "./Images/Image_150.jpg\n",
      "./Images/Image_16.jpg\n",
      "./Images/Image_17.JPG\n",
      "./Images/Image_18.jpg\n",
      "./Images/Image_19.jpg\n",
      "./Images/Image_2.jpg\n",
      "./Images/Image_20.jpg\n",
      "./Images/Image_21.jpg\n",
      "./Images/Image_22.jpg\n",
      "./Images/Image_23.jpg\n",
      "./Images/Image_24.jpg\n",
      "./Images/Image_25.jpg\n",
      "./Images/Image_26.JPG\n",
      "./Images/Image_27.jpg\n",
      "./Images/Image_28.jpg\n",
      "./Images/Image_29.jpg\n",
      "./Images/Image_3.jpg\n",
      "./Images/Image_30.JPG\n",
      "./Images/Image_31.JPG\n",
      "./Images/Image_32.jpg\n",
      "./Images/Image_33.jpg\n",
      "./Images/Image_34.jpg\n",
      "./Images/Image_35.jpg\n",
      "./Images/Image_36.jpg\n",
      "./Images/Image_37.JPG\n",
      "./Images/Image_38.jpg\n",
      "./Images/Image_39.jpg\n",
      "./Images/Image_4.jpg\n",
      "./Images/Image_40.jpg\n",
      "./Images/Image_41.jpg\n",
      "./Images/Image_42.jpg\n",
      "./Images/Image_43.jpg\n",
      "./Images/Image_44.JPG\n",
      "./Images/Image_45.jpg\n",
      "./Images/Image_46.jpg\n",
      "./Images/Image_47.jpg\n",
      "./Images/Image_48.png\n",
      "./Images/Image_49.jpg\n",
      "./Images/Image_5.jpg\n",
      "./Images/Image_50.jpg\n",
      "./Images/Image_51.jpg\n",
      "./Images/Image_52.JPG\n",
      "./Images/Image_53.jpg\n",
      "./Images/Image_54.jpg\n",
      "./Images/Image_55.png\n",
      "./Images/Image_56.jpg\n",
      "./Images/Image_57.jpg\n",
      "./Images/Image_58.JPG\n",
      "./Images/Image_59.jpg\n",
      "./Images/Image_6.jpg\n",
      "./Images/Image_60.jpg\n",
      "./Images/Image_61.jpg\n",
      "./Images/Image_62.jpg\n",
      "./Images/Image_63.jpg\n",
      "./Images/Image_64.jpg\n",
      "./Images/Image_65.png\n",
      "./Images/Image_66.jpg\n",
      "./Images/Image_67.jpg\n",
      "./Images/Image_68.JPG\n",
      "./Images/Image_69.jpg\n",
      "./Images/Image_7.jpg\n",
      "./Images/Image_70.jpg\n",
      "./Images/Image_71.jpg\n",
      "./Images/Image_72.jpg\n",
      "./Images/Image_73.jpg\n",
      "./Images/Image_74.jpg\n",
      "./Images/Image_75.jpg\n",
      "./Images/Image_76.jpg\n",
      "./Images/Image_77.jpg\n",
      "./Images/Image_78.jpg\n",
      "./Images/Image_79.jpg\n",
      "./Images/Image_8.JPG\n",
      "./Images/Image_80.JPG\n",
      "./Images/Image_81.jpg\n",
      "./Images/Image_82.jpg\n",
      "./Images/Image_83.jpg\n",
      "./Images/Image_84.jpg\n",
      "./Images/Image_85.jpg\n",
      "./Images/Image_86.jpg\n",
      "./Images/Image_87.jpg\n",
      "./Images/Image_88.jpg\n",
      "./Images/Image_89.jpg\n",
      "./Images/Image_9.jpg\n",
      "./Images/Image_90.jpg\n",
      "./Images/Image_91.jpg\n",
      "./Images/Image_92.jpg\n",
      "./Images/Image_93.jpg\n",
      "./Images/Image_94.jpg\n",
      "./Images/Image_95.jpg\n",
      "./Images/Image_96.jpg\n",
      "./Images/Image_97.jpg\n",
      "./Images/Image_98.jpg\n",
      "./Images/Image_99.jpg\n",
      "Les informations des images ont été enregistrées dans le fichier: images_data2.json\n"
     ]
    }
   ],
   "source": [
    "def get_image_info(image_path):\n",
    "    # Ouvrir l'image avec PIL\n",
    "    print(image_path)\n",
    "    with Image.open(image_path) as img:\n",
    "        # Récupérer les informations demandées\n",
    "        image_info = {\n",
    "            \"taille\": img.size,\n",
    "            \"format\": img.format,\n",
    "            \"orientation\": \"paysage\" if img.width > img.height else \"portrait\" if img.height > img.width else \"carre\",\n",
    "            \"tags\": []\n",
    "        }\n",
    "        \n",
    "        # Vérifier si les informations EXIF existent\n",
    "        exif_info = img._getexif()\n",
    "        if exif_info:\n",
    "            # Ajouter la date de création et le modèle d'appareil photo si disponibles\n",
    "            image_info[\"date_creation\"] = exif_info.get(36867)  # 36867 est le code EXIF pour la date de création\n",
    "            image_info[\"modele_appareil\"] = exif_info.get(272)   # 272 est le code EXIF pour le modèle d'appareil photo\n",
    "    \n",
    "    return image_info\n",
    "\n",
    "def get_images_info(directory):\n",
    "    # Liste des fichiers dans le répertoire\n",
    "    image_files = os.listdir(directory)\n",
    "\n",
    "    # Dictionnaire pour stocker les informations de chaque image\n",
    "    images_info = {}\n",
    "\n",
    "    # Parcourir chaque fichier image et récupérer les informations\n",
    "    for image_file in image_files:\n",
    "        image_path = os.path.join(directory, image_file)\n",
    "        # Vérifier si le fichier est une image\n",
    "        if os.path.isfile(image_path) and image_path.lower().endswith(('.jpg', '.jpeg', '.png', '.JPG', '.gif')):\n",
    "            # Extraire le nom de fichier sans extension\n",
    "            image_name = os.path.splitext(image_file)[0]\n",
    "            images_info[image_name] = get_image_info(image_path)\n",
    "    \n",
    "    return images_info\n",
    "\n",
    "\n",
    "# Répertoire contenant les images\n",
    "directory = \"./Images/\"\n",
    "\n",
    "# Récupérer les informations des images\n",
    "images_info = get_images_info(directory)\n",
    "\n",
    "# Enregistrer les informations dans un fichier JSON\n",
    "output_json_file = 'images_data2.json'\n",
    "with open(output_json_file, 'w') as json_file:\n",
    "    json.dump(images_info, json_file, indent=4)\n",
    "\n",
    "print(\"Les informations des images ont été enregistrées dans le fichier:\", output_json_file)\n"
   ]
  },
  {
   "cell_type": "markdown",
   "id": "24049bdb",
   "metadata": {},
   "source": [
    "## 2 : Étiquetage et annotation"
   ]
  },
  {
   "cell_type": "markdown",
   "id": "15371779",
   "metadata": {},
   "source": [
    "### Sélection des Images via index pour ne pas surcharger l'affichage"
   ]
  },
  {
   "cell_type": "code",
   "execution_count": 2,
   "id": "64f9b6d1",
   "metadata": {},
   "outputs": [
    {
     "name": "stdout",
     "output_type": "stream",
     "text": [
      "['./Images\\\\Image_1.jpg', './Images\\\\Image_2.jpg', './Images\\\\Image_3.jpg', './Images\\\\Image_4.jpg', './Images\\\\Image_5.jpg', './Images\\\\Image_6.jpg', './Images\\\\Image_7.jpg', './Images\\\\Image_8.jpg', './Images\\\\Image_9.jpg', './Images\\\\Image_10.jpg', './Images\\\\Image_11.jpg', './Images\\\\Image_12.jpg', './Images\\\\Image_13.jpg', './Images\\\\Image_14.jpg', './Images\\\\Image_15.jpg', './Images\\\\Image_16.jpg', './Images\\\\Image_17.jpg', './Images\\\\Image_18.jpg', './Images\\\\Image_19.jpg', './Images\\\\Image_20.jpg', './Images\\\\Image_21.jpg', './Images\\\\Image_22.jpg', './Images\\\\Image_23.jpg', './Images\\\\Image_24.jpg', './Images\\\\Image_25.jpg', './Images\\\\Image_26.jpg', './Images\\\\Image_27.jpg', './Images\\\\Image_28.jpg', './Images\\\\Image_29.jpg', './Images\\\\Image_30.jpg', './Images\\\\Image_31.jpg', './Images\\\\Image_32.jpg', './Images\\\\Image_33.jpg', './Images\\\\Image_34.jpg', './Images\\\\Image_35.jpg', './Images\\\\Image_36.jpg', './Images\\\\Image_37.jpg', './Images\\\\Image_38.jpg', './Images\\\\Image_39.jpg', './Images\\\\Image_40.jpg', './Images\\\\Image_41.jpg', './Images\\\\Image_42.jpg', './Images\\\\Image_43.jpg', './Images\\\\Image_44.jpg', './Images\\\\Image_45.jpg', './Images\\\\Image_46.jpg', './Images\\\\Image_47.jpg', './Images\\\\Image_48.jpg', './Images\\\\Image_49.jpg', './Images\\\\Image_50.jpg', './Images\\\\Image_51.jpg', './Images\\\\Image_52.jpg', './Images\\\\Image_53.jpg', './Images\\\\Image_54.jpg', './Images\\\\Image_55.jpg', './Images\\\\Image_56.jpg', './Images\\\\Image_57.jpg', './Images\\\\Image_58.jpg', './Images\\\\Image_59.jpg', './Images\\\\Image_60.jpg', './Images\\\\Image_61.jpg', './Images\\\\Image_62.jpg', './Images\\\\Image_63.jpg', './Images\\\\Image_64.jpg', './Images\\\\Image_65.jpg', './Images\\\\Image_66.jpg', './Images\\\\Image_67.jpg', './Images\\\\Image_68.jpg', './Images\\\\Image_69.jpg', './Images\\\\Image_70.jpg', './Images\\\\Image_71.jpg', './Images\\\\Image_72.jpg', './Images\\\\Image_73.jpg', './Images\\\\Image_74.jpg', './Images\\\\Image_75.jpg', './Images\\\\Image_76.jpg', './Images\\\\Image_77.jpg', './Images\\\\Image_78.jpg', './Images\\\\Image_79.jpg', './Images\\\\Image_80.jpg', './Images\\\\Image_81.jpg', './Images\\\\Image_82.jpg', './Images\\\\Image_83.jpg', './Images\\\\Image_84.jpg', './Images\\\\Image_85.jpg', './Images\\\\Image_86.jpg', './Images\\\\Image_87.jpg', './Images\\\\Image_88.jpg', './Images\\\\Image_89.jpg', './Images\\\\Image_90.jpg', './Images\\\\Image_91.jpg', './Images\\\\Image_92.jpg', './Images\\\\Image_93.jpg', './Images\\\\Image_94.jpg', './Images\\\\Image_95.jpg', './Images\\\\Image_96.jpg', './Images\\\\Image_97.jpg', './Images\\\\Image_98.jpg', './Images\\\\Image_99.jpg', './Images\\\\Image_100.jpg', './Images\\\\Image_101.jpg', './Images\\\\Image_102.jpg', './Images\\\\Image_103.jpg', './Images\\\\Image_104.jpg', './Images\\\\Image_105.jpg', './Images\\\\Image_106.jpg', './Images\\\\Image_107.jpg', './Images\\\\Image_108.jpg', './Images\\\\Image_109.jpg', './Images\\\\Image_110.jpg', './Images\\\\Image_111.jpg', './Images\\\\Image_112.jpg', './Images\\\\Image_113.jpg', './Images\\\\Image_114.jpg', './Images\\\\Image_115.jpg', './Images\\\\Image_116.jpg', './Images\\\\Image_117.jpg', './Images\\\\Image_118.jpg', './Images\\\\Image_119.jpg', './Images\\\\Image_120.jpg', './Images\\\\Image_121.jpg', './Images\\\\Image_122.jpg', './Images\\\\Image_123.jpg', './Images\\\\Image_124.jpg', './Images\\\\Image_125.jpg', './Images\\\\Image_126.jpg', './Images\\\\Image_127.jpg', './Images\\\\Image_128.jpg', './Images\\\\Image_129.jpg', './Images\\\\Image_130.jpg', './Images\\\\Image_131.jpg', './Images\\\\Image_132.jpg', './Images\\\\Image_133.jpg', './Images\\\\Image_134.jpg', './Images\\\\Image_135.jpg', './Images\\\\Image_136.jpg', './Images\\\\Image_137.jpg', './Images\\\\Image_138.jpg', './Images\\\\Image_139.jpg', './Images\\\\Image_140.jpg', './Images\\\\Image_141.jpg', './Images\\\\Image_142.jpg', './Images\\\\Image_143.jpg', './Images\\\\Image_144.jpg', './Images\\\\Image_145.jpg', './Images\\\\Image_146.jpg', './Images\\\\Image_147.jpg', './Images\\\\Image_148.jpg', './Images\\\\Image_149.jpg', './Images\\\\Image_150.jpg']\n"
     ]
    }
   ],
   "source": [
    "images = []\n",
    "directory = \"./Images\"\n",
    "start_index = 0\n",
    "end_index = 150\n",
    "\n",
    "# Fonction pour trier les images par leur numéro\n",
    "def tri_numerique(nom_image):\n",
    "    parts = nom_image.split(\"_\")\n",
    "    if len(parts) >= 2:\n",
    "        try:\n",
    "            return int(parts[1].split(\".\")[0])\n",
    "        except ValueError:\n",
    "            return float('inf')  # Si la conversion échoue, renvoie une valeur infinie\n",
    "    else:\n",
    "        return float('inf')  # Si le format de nommage n'est pas valide, renvoie une valeur infinie\n",
    "\n",
    "# Parcourir les fichiers dans le répertoire d'images\n",
    "for i, file in enumerate(sorted(os.listdir(directory), key=tri_numerique)):\n",
    "    # Vérifier si l'index de l'image est dans la plage souhaitée\n",
    "    if start_index <= tri_numerique(file) <= end_index:\n",
    "        image_path = os.path.join(directory, file)\n",
    "        # Vérifier si le fichier est une image\n",
    "        if os.path.isfile(image_path):\n",
    "            _, extension = os.path.splitext(image_path)\n",
    "            # Vérifier si le fichier a une extension d'image valide\n",
    "            if extension.lower() in ['.jpg', '.jpeg', '.png', '.gif']:\n",
    "                images.append(image_path)\n",
    "\n",
    "print(images)\n"
   ]
  },
  {
   "cell_type": "markdown",
   "id": "1feee55e",
   "metadata": {},
   "source": [
    "### Ajout des tags aux images"
   ]
  },
  {
   "cell_type": "code",
   "execution_count": 26,
   "id": "13fd2d53-976b-4db0-ba79-4532b94c657d",
   "metadata": {},
   "outputs": [
    {
     "data": {
      "application/vnd.jupyter.widget-view+json": {
       "model_id": "46c781197d56413ca08cfb042a6ef19f",
       "version_major": 2,
       "version_minor": 0
      },
      "text/plain": [
       "GridspecLayout(children=(Image(value=b'\\xff\\xd8\\xff\\xe0\\x00\\x10JFIF\\x00\\x01\\x02\\x01\\x00\\xb4\\x00\\xb4\\x00\\x00\\xf…"
      ]
     },
     "metadata": {},
     "output_type": "display_data"
    },
    {
     "data": {
      "application/vnd.jupyter.widget-view+json": {
       "model_id": "8b3e4321315c455dbd4ef9932189903b",
       "version_major": 2,
       "version_minor": 0
      },
      "text/plain": [
       "Button(description='Select', style=ButtonStyle())"
      ]
     },
     "metadata": {},
     "output_type": "display_data"
    },
    {
     "data": {
      "application/vnd.jupyter.widget-view+json": {
       "model_id": "1e95f5a659f04f50afe5e5bd078ac096",
       "version_major": 2,
       "version_minor": 0
      },
      "text/plain": [
       "Output()"
      ]
     },
     "metadata": {},
     "output_type": "display_data"
    },
    {
     "name": "stdout",
     "output_type": "stream",
     "text": [
      "['Image_45']\n"
     ]
    }
   ],
   "source": [
    "paths = []\n",
    "\n",
    "checkboxes = [widgets.Checkbox(value=False, description='Favorite') for _ in range(len(images))]\n",
    "\n",
    "# Create the GridspecLayout widget\n",
    "layout = GridspecLayout(n_columns=2, n_rows=len(images), width='400px')\n",
    "for i, (img, checkbox) in enumerate(zip(images, checkboxes)):\n",
    "  file = open(img, \"rb\")\n",
    "  image = file.read()\n",
    "  image_widget = widgets.Image(\n",
    "    value=image,\n",
    "    width=100,\n",
    "    height=100,\n",
    "  )\n",
    "  layout[i,0] = image_widget\n",
    "  layout[i, 1] = checkbox\n",
    "\n",
    "# Button to get selected images\n",
    "button = widgets.Button(description=\"Select\")\n",
    "\n",
    "# Output widget to display selected images\n",
    "output = widgets.Output()\n",
    "\n",
    "# Function to get selected images\n",
    "def get_selected_images(btn):\n",
    "    selected_images = [os.path.splitext(os.path.basename(images[i]))[0] for i, checkbox in enumerate(checkboxes) if checkbox.value]\n",
    "    print(selected_images)\n",
    "    with open(\"images_data.json\", \"r+\") as f:\n",
    "        data = json.load(f)\n",
    "        for image_name in selected_images:\n",
    "            if \"tags\" in data[image_name]:\n",
    "                # Vérifier si le champ \"tags\" existe déjà\n",
    "                if \"truck\" not in data[image_name][\"tags\"]:\n",
    "                    # Ajouter \"sport\" uniquement si ce n'est pas déjà présent\n",
    "                    data[image_name][\"tags\"].append(\"truck\")\n",
    "            else:\n",
    "                # Si le champ \"tags\" n'existe pas, le créer avec \"sport\"\n",
    "                data[image_name][\"tags\"] = [\"truck\"]\n",
    "        f.seek(0)\n",
    "        json.dump(data, f, indent=4)\n",
    "        f.truncate()\n",
    "        \n",
    "\n",
    "# Link button click event to function\n",
    "button.on_click(get_selected_images)\n",
    "\n",
    "# Display the layout and button\n",
    "display(layout, button, output)"
   ]
  },
  {
   "cell_type": "markdown",
   "id": "bbbc917e",
   "metadata": {},
   "source": [
    "### Extraction des couleurs de chaque image"
   ]
  },
  {
   "cell_type": "markdown",
   "id": "86ec514f",
   "metadata": {},
   "source": [
    "### Insertion du champ colors dans le JSON"
   ]
  },
  {
   "cell_type": "code",
   "execution_count": 77,
   "id": "5b02a9be-e64d-434d-9023-5cb9f9c9d4e9",
   "metadata": {},
   "outputs": [],
   "source": [
    "# Ajout du champ color à chaque Image\n",
    "with open(\"images_data.json\", \"r+\") as f:\n",
    "        data = json.load(f)\n",
    "        for imageClr in data:\n",
    "            if \"colors\" in data[imageClr]:\n",
    "                print(\"Déjà Présent\")\n",
    "            else:\n",
    "                # Si le champ \"colors\" n'existe pas, le créer avec \"sport\"\n",
    "                data[imageClr][\"colors\"] = []\n",
    "        f.seek(0)\n",
    "        json.dump(data, f, indent=4)\n",
    "        f.truncate()\n"
   ]
  },
  {
   "cell_type": "markdown",
   "id": "de73143b",
   "metadata": {},
   "source": [
    "### Fonction pour obtenir les couleurs au format rgb"
   ]
  },
  {
   "cell_type": "code",
   "execution_count": 48,
   "id": "91f6501a-107b-43a4-8116-5a4521d84660",
   "metadata": {},
   "outputs": [],
   "source": [
    "def getColorsFromImage(self):\n",
    "        colors = []\n",
    "        imgfile = Image.open(self)\n",
    "        imgfile = imgfile.resize((300, 300))  # optional, to reduce time\n",
    "        nb_clusters = 5\n",
    "        numarray = numpy.array(imgfile.getdata(), numpy.uint8)\n",
    "        if type(numarray[0]) == numpy.uint8:\n",
    "            # for each pixel, convert to a 3-tuple of ints\n",
    "            numarray = numpy.array([[numarray[i], numarray[i], numarray[i]] for i in range(0, len(numarray))])\n",
    "\n",
    "        clusters = KMeans(n_clusters=nb_clusters, n_init=2)\n",
    "        # if image is black and white\n",
    "        # if len(numarray[0]) == 2:\n",
    "        clusters.fit(numarray)\n",
    "        npbins = numpy.arange(0, nb_clusters + 1)\n",
    "        histogram = numpy.histogram(clusters.labels_, bins=npbins)\n",
    "        labels = numpy.unique(clusters.labels_)\n",
    "        for i in range(nb_clusters):\n",
    "            colorRGB = (\n",
    "                math.ceil(clusters.cluster_centers_[i][0]),\n",
    "                math.ceil(clusters.cluster_centers_[i][1]),\n",
    "                math.ceil(clusters.cluster_centers_[i][2]),\n",
    "            )\n",
    "            colors.append(colorRGB)\n",
    "        return colors\n",
    "        "
   ]
  },
  {
   "cell_type": "markdown",
   "id": "6afbc4ab",
   "metadata": {},
   "source": [
    "### Fonction pour obtenir le nom d'une couleur à partir de sa valeur rgb"
   ]
  },
  {
   "cell_type": "code",
   "execution_count": 59,
   "id": "59cd70a0",
   "metadata": {},
   "outputs": [],
   "source": [
    "def convert_rgb_to_names(rgb_tuple):\n",
    "        # a dictionary of all the hex and their respective names in css3\n",
    "        css3_db = CSS3_NAMES_TO_HEX\n",
    "        names = []\n",
    "        rgb_values = []\n",
    "        for color_name, color_hex in css3_db.items():\n",
    "            names.append(color_name)\n",
    "            rgb_values.append(hex_to_rgb(color_hex))\n",
    "\n",
    "        kdt_db = KDTree(rgb_values)\n",
    "        distance, index = kdt_db.query(rgb_tuple)\n",
    "        return names[index]\n"
   ]
  },
  {
   "cell_type": "markdown",
   "id": "79755c78",
   "metadata": {},
   "source": [
    "### On ajoute les noms des Images dans le JSON"
   ]
  },
  {
   "cell_type": "code",
   "execution_count": 84,
   "id": "ae08291b",
   "metadata": {},
   "outputs": [
    {
     "name": "stdout",
     "output_type": "stream",
     "text": [
      "[(164, 157, 154), (102, 96, 126), (54, 53, 61), (231, 217, 170), (40, 24, 159)]\n",
      "['darkgrey', 'dimgray', 'darkslategray', 'palegoldenrod', 'midnightblue']\n",
      "[(152, 152, 152), (25, 25, 25), (117, 117, 117), (189, 189, 189), (73, 73, 73)]\n",
      "['darkgrey', 'black', 'gray', 'silver', 'darkslategray']\n",
      "[(62, 53, 57), (233, 224, 218), (20, 17, 23), (114, 108, 109), (176, 164, 159)]\n",
      "['darkslategray', 'gainsboro', 'black', 'dimgray', 'darkgrey']\n",
      "[(104, 105, 74), (169, 180, 114), (232, 209, 205), (239, 87, 88), (55, 38, 26)]\n",
      "['dimgray', 'darkkhaki', 'lightgray', 'tomato', 'darkslategray']\n",
      "[(90, 82, 84), (126, 128, 131), (191, 91, 104), (57, 48, 50), (200, 190, 197)]\n",
      "['dimgray', 'gray', 'indianred', 'darkslategray', 'silver']\n",
      "[(85, 84, 85), (219, 224, 226), (30, 29, 30), (171, 175, 177), (122, 123, 124)]\n",
      "['dimgray', 'gainsboro', 'black', 'darkgrey', 'gray']\n",
      "[(150, 48, 33), (181, 178, 170), (67, 56, 49), (141, 114, 106), (252, 251, 250)]\n",
      "['brown', 'darkgrey', 'darkslategray', 'gray', 'snow']\n",
      "[(213, 217, 221), (32, 32, 30), (79, 77, 72), (128, 125, 121), (175, 177, 178)]\n",
      "['gainsboro', 'black', 'darkslategray', 'gray', 'darkgrey']\n",
      "[(131, 144, 157), (68, 60, 59), (95, 97, 102), (26, 16, 15), (210, 226, 231)]\n",
      "['lightslategrey', 'darkslategray', 'dimgray', 'black', 'gainsboro']\n",
      "[(138, 100, 86), (166, 163, 162), (17, 16, 13), (230, 226, 220), (75, 61, 54)]\n",
      "['dimgray', 'darkgrey', 'black', 'gainsboro', 'darkslategray']\n",
      "[(49, 37, 38), (245, 110, 126), (120, 115, 118), (215, 192, 198), (200, 42, 51)]\n",
      "['darkslategray', 'lightcoral', 'gray', 'thistle', 'firebrick']\n",
      "[(146, 153, 149), (30, 37, 25), (151, 185, 90), (231, 210, 192), (96, 111, 76)]\n",
      "['lightslategrey', 'black', 'darkkhaki', 'wheat', 'dimgray']\n",
      "[(12, 13, 13), (104, 105, 110), (55, 58, 64), (141, 153, 168), (208, 213, 218)]\n",
      "['black', 'dimgray', 'darkslategray', 'lightslategrey', 'lightgray']\n",
      "[(168, 166, 157), (21, 23, 27), (218, 222, 220), (110, 118, 130), (71, 72, 76)]\n",
      "['darkgrey', 'black', 'gainsboro', 'slategrey', 'darkslategray']\n",
      "[(181, 112, 49), (90, 81, 59), (187, 185, 180), (137, 139, 139), (31, 30, 30)]\n",
      "['peru', 'darkolivegreen', 'silver', 'gray', 'black']\n",
      "[(180, 179, 175), (86, 86, 87), (215, 219, 223), (29, 29, 31), (146, 141, 133)]\n",
      "['darkgrey', 'dimgray', 'gainsboro', 'black', 'gray']\n",
      "[(69, 59, 69), (174, 173, 188), (128, 121, 136), (21, 18, 23), (241, 242, 242)]\n",
      "['darkslategray', 'darkgrey', 'gray', 'black', 'whitesmoke']\n",
      "[(70, 70, 64), (17, 18, 17), (192, 203, 208), (125, 125, 95), (238, 54, 56)]\n",
      "['darkslategray', 'black', 'silver', 'dimgray', 'crimson']\n",
      "[(33, 23, 22), (115, 118, 137), (212, 214, 212), (97, 63, 59), (207, 42, 46)]\n",
      "['black', 'slategrey', 'lightgray', 'darkolivegreen', 'crimson']\n",
      "[(173, 176, 179), (79, 80, 83), (229, 228, 226), (24, 24, 26), (121, 126, 133)]\n",
      "['darkgrey', 'darkslategray', 'gainsboro', 'black', 'gray']\n",
      "[(17, 19, 19), (118, 181, 241), (229, 219, 202), (114, 120, 107), (54, 59, 57)]\n",
      "['black', 'skyblue', 'gainsboro', 'dimgray', 'darkslategray']\n",
      "[(102, 100, 97), (193, 199, 200), (63, 59, 60), (22, 18, 19), (142, 145, 147)]\n",
      "['dimgray', 'silver', 'darkslategray', 'black', 'lightslategrey']\n",
      "[(75, 67, 72), (185, 41, 35), (25, 20, 24), (139, 129, 138), (68, 13, 13)]\n",
      "['darkslategray', 'firebrick', 'black', 'gray', 'maroon']\n",
      "[(30, 33, 29), (167, 168, 168), (123, 122, 122), (226, 229, 234), (73, 74, 74)]\n",
      "['black', 'darkgrey', 'gray', 'lavender', 'darkslategray']\n",
      "[(236, 235, 231), (78, 83, 59), (171, 169, 164), (39, 43, 33), (124, 123, 107)]\n",
      "['linen', 'darkolivegreen', 'darkgrey', 'darkslategray', 'gray']\n",
      "[(54, 91, 128), (31, 27, 26), (158, 131, 101), (81, 67, 49), (190, 192, 193)]\n",
      "['darkslateblue', 'black', 'gray', 'darkolivegreen', 'silver']\n",
      "[(83, 90, 101), (237, 255, 255), (34, 42, 58), (182, 236, 251), (121, 128, 134)]\n",
      "['dimgray', 'azure', 'darkslategray', 'paleturquoise', 'gray']\n",
      "[(140, 133, 132), (38, 28, 28), (85, 83, 86), (201, 120, 49), (202, 207, 208)]\n",
      "['gray', 'black', 'dimgray', 'peru', 'lightgray']\n",
      "[(195, 203, 208), (64, 70, 46), (106, 111, 71), (23, 26, 17), (145, 143, 120)]\n",
      "['lightgray', 'darkslategray', 'darkolivegreen', 'black', 'gray']\n",
      "[(90, 90, 90), (255, 255, 255), (136, 136, 136), (42, 42, 42), (217, 217, 217)]\n",
      "['dimgray', 'white', 'gray', 'darkslategray', 'gainsboro']\n",
      "[(162, 165, 157), (65, 57, 51), (119, 113, 105), (205, 220, 214), (20, 18, 15)]\n",
      "['darkgrey', 'darkslategray', 'dimgray', 'lightgray', 'black']\n",
      "[(27, 26, 26), (179, 176, 172), (130, 127, 123), (223, 223, 221), (74, 73, 71)]\n",
      "['black', 'darkgrey', 'gray', 'gainsboro', 'darkslategray']\n",
      "[(74, 76, 72), (209, 211, 203), (35, 33, 30), (161, 164, 155), (112, 114, 107)]\n",
      "['darkslategray', 'lightgray', 'black', 'darkgrey', 'dimgray']\n",
      "[(206, 206, 206), (64, 64, 64), (106, 106, 106), (151, 151, 151), (31, 31, 31)]\n",
      "['lightgray', 'darkslategray', 'dimgray', 'darkgrey', 'black']\n",
      "[(94, 74, 59), (161, 172, 168), (55, 109, 48), (25, 30, 26), (123, 118, 93)]\n",
      "['darkolivegreen', 'darkgrey', 'darkolivegreen', 'black', 'dimgray']\n",
      "[(204, 218, 228), (149, 126, 127), (55, 29, 32), (106, 78, 85), (183, 179, 171)]\n",
      "['gainsboro', 'gray', 'darkslategray', 'dimgray', 'darkgrey']\n",
      "[(99, 102, 106), (43, 46, 52), (167, 139, 107), (181, 189, 191), (122, 141, 156)]\n",
      "['dimgray', 'darkslategray', 'rosybrown', 'silver', 'lightslategrey']\n",
      "[(116, 111, 105), (219, 222, 221), (29, 30, 25), (76, 73, 67), (166, 163, 158)]\n",
      "['dimgray', 'gainsboro', 'black', 'darkslategray', 'darkgrey']\n",
      "[(110, 118, 119), (232, 232, 232), (68, 73, 68), (25, 27, 20), (175, 176, 174)]\n",
      "['dimgray', 'lavender', 'darkslategray', 'black', 'darkgrey']\n",
      "[(26, 28, 29), (183, 181, 170), (130, 131, 124), (67, 70, 67), (240, 238, 227)]\n",
      "['black', 'darkgrey', 'gray', 'darkslategray', 'linen']\n",
      "[(168, 162, 146), (31, 29, 24), (124, 120, 107), (221, 215, 194), (79, 79, 63)]\n",
      "['darkgrey', 'black', 'gray', 'lightgray', 'darkolivegreen']\n",
      "[(109, 101, 88), (149, 160, 179), (33, 27, 24), (237, 160, 31), (236, 240, 236)]\n",
      "['dimgray', 'darkgrey', 'black', 'goldenrod', 'whitesmoke']\n",
      "[(37, 38, 38), (162, 172, 180), (127, 135, 126), (77, 98, 108), (194, 209, 225)]\n",
      "['darkslategray', 'darkgrey', 'gray', 'dimgray', 'lightgray']\n",
      "[(44, 46, 49), (149, 180, 207), (95, 93, 91), (143, 142, 136), (230, 222, 187)]\n",
      "['darkslategray', 'lightsteelblue', 'dimgray', 'gray', 'wheat']\n",
      "[(159, 151, 126), (41, 36, 35), (242, 243, 242), (93, 88, 79), (206, 203, 191)]\n",
      "['rosybrown', 'darkslategray', 'whitesmoke', 'dimgray', 'silver']\n",
      "[(104, 103, 105), (13, 13, 13), (200, 201, 199), (134, 133, 137), (61, 56, 50)]\n",
      "['dimgray', 'black', 'silver', 'gray', 'darkslategray']\n",
      "[(30, 33, 25), (178, 199, 95), (84, 89, 76), (198, 208, 201), (141, 151, 130)]\n",
      "['black', 'darkkhaki', 'darkolivegreen', 'lightgray', 'gray']\n",
      "[(35, 34, 37), (118, 119, 122), (220, 222, 225), (156, 160, 164), (79, 74, 74)]\n",
      "['black', 'gray', 'gainsboro', 'darkgrey', 'darkslategray']\n",
      "[(25, 24, 21), (204, 212, 219), (120, 112, 98), (77, 67, 59), (150, 155, 158)]\n",
      "['black', 'lightgray', 'dimgray', 'darkslategray', 'darkgrey']\n",
      "[(60, 57, 50), (145, 144, 140), (220, 218, 211), (99, 94, 88), (25, 25, 24)]\n",
      "['darkslategray', 'gray', 'gainsboro', 'dimgray', 'black']\n"
     ]
    }
   ],
   "source": [
    "with open(\"images_data.json\", \"r+\") as f:\n",
    "    data = json.load(f)\n",
    "    for img in images:\n",
    "        names = []\n",
    "        image_name = os.path.splitext(os.path.basename(img))[0]\n",
    "        rgb_colors = getColorsFromImage(img)\n",
    "        for color in rgb_colors:\n",
    "            color_name = convert_rgb_to_names(color)\n",
    "            names.append(color_name)\n",
    "        print(names)\n",
    "        if \"colors\" in data[image_name]:\n",
    "            # Ajouter des couleurs\n",
    "            data[image_name][\"colors\"].append(names)\n",
    "        else:\n",
    "            print(\"Error : pas de champ colors\")\n",
    "    f.seek(0)\n",
    "    json.dump(data, f, indent=4)\n",
    "    f.truncate()"
   ]
  },
  {
   "cell_type": "markdown",
   "id": "fb583dd9",
   "metadata": {},
   "source": [
    "## 3 : Analyse de données"
   ]
  },
  {
   "cell_type": "code",
   "execution_count": null,
   "id": "ea2609cb-bb42-4257-bb76-950da717d037",
   "metadata": {},
   "outputs": [],
   "source": []
  },
  {
   "cell_type": "code",
   "execution_count": null,
   "id": "0d3f0f7f-fdee-4769-9e9d-9e568d923039",
   "metadata": {},
   "outputs": [],
   "source": []
  },
  {
   "cell_type": "code",
   "execution_count": null,
   "id": "9d9b1524-c39a-4436-bb5b-d1e504e9a1b7",
   "metadata": {},
   "outputs": [],
   "source": []
  },
  {
   "cell_type": "code",
   "execution_count": null,
   "id": "45258350-d196-4221-908e-b7f4cff5582a",
   "metadata": {},
   "outputs": [],
   "source": []
  },
  {
   "cell_type": "markdown",
   "id": "34d1155f",
   "metadata": {},
   "source": [
    "## 4 : Visualisation des données"
   ]
  },
  {
   "cell_type": "markdown",
   "id": "ecc417e4",
   "metadata": {},
   "source": [
    "#### Notre fichier JSON n'est pas au bon format pour la visualisation des données, on le modifie pour pouvoir accéder à chaque objet "
   ]
  },
  {
   "cell_type": "code",
   "execution_count": 32,
   "id": "1a6f353c",
   "metadata": {},
   "outputs": [],
   "source": [
    "# Charger les données JSON depuis le fichier d'origine\n",
    "with open('images_data.json', 'r') as file:\n",
    "    original_data = json.load(file)\n",
    "\n",
    "# Créer une liste pour stocker les nouveaux objets\n",
    "nouveau_json = []\n",
    "\n",
    "# Parcourir chaque objet d'image dans le JSON d'origine\n",
    "for nom_image, details_image in original_data.items():\n",
    "    # Extraire le numéro de l'image à partir du nom\n",
    "    numero_image = int(nom_image.split(\"_\")[1])\n",
    "    \n",
    "    # Créer un dictionnaire pour le nouvel objet\n",
    "    nouvel_objet = {\n",
    "        \"id\": numero_image,\n",
    "        \"nom\": nom_image,\n",
    "        \"taille\": details_image[\"taille\"],\n",
    "        \"format\": details_image[\"format\"],\n",
    "        \"orientation\": details_image[\"orientation\"],\n",
    "        \"tags\": details_image[\"tags\"],\n",
    "        \"date_creation\": details_image.get(\"date_creation\"),  \n",
    "        \"modele_appareil\": details_image.get(\"modele_appareil\"), \n",
    "        \"colors\": details_image[\"colors\"]\n",
    "    }\n",
    "    \n",
    "    # Ajouter le nouvel objet à la liste\n",
    "    nouveau_json.append(nouvel_objet)\n",
    "\n",
    "# Écrire le nouveau JSON dans un fichier\n",
    "with open(\"images_data_view.json\", \"w\") as file:\n",
    "    json.dump(nouveau_json, file, indent=4)\n"
   ]
  },
  {
   "cell_type": "markdown",
   "id": "66d7dc5d",
   "metadata": {},
   "source": [
    "### Nombre d'images pour chaque tag"
   ]
  },
  {
   "cell_type": "code",
   "execution_count": 35,
   "id": "80f51c65",
   "metadata": {},
   "outputs": [
    {
     "data": {
      "image/png": "[encoded data removed]",
      "text/plain": [
       "<Figure size 720x432 with 1 Axes>"
      ]
     },
     "metadata": {
      "needs_background": "light"
     },
     "output_type": "display_data"
    }
   ],
   "source": [
    "# Charger les données JSON depuis un fichier\n",
    "with open('./images_data_view.json', 'r') as file:\n",
    "    data = json.load(file)\n",
    "    \n",
    "    # Analyser les données pour compter le nombre de chaque tag\n",
    "    tag_counts = {}\n",
    "    for obj in data:\n",
    "        tags = obj.get('tags', [])\n",
    "        for tag in tags:\n",
    "            tag_counts[tag] = tag_counts.get(tag, 0) + 1\n",
    "\n",
    "    # Créer le graphique plot\n",
    "    tags = list(tag_counts.keys())\n",
    "    counts = list(tag_counts.values())\n",
    "\n",
    "    plt.figure(figsize=(10, 6))\n",
    "    plt.bar(tags, counts)\n",
    "    plt.xlabel('Tags')\n",
    "    plt.ylabel('Nombre')\n",
    "    plt.title(\"Nombre d'images pour chaque Tag\")\n",
    "    plt.xticks(rotation=45, ha='right')  # Rotation des étiquettes pour éviter le chevauchement\n",
    "    plt.tight_layout()  # Ajuster la disposition pour éviter le recouvrement des étiquettes\n",
    "    plt.show()\n"
   ]
  },
  {
   "cell_type": "markdown",
   "id": "78768417",
   "metadata": {},
   "source": [
    "### Nombre d'images pour chaque année"
   ]
  },
  {
   "cell_type": "code",
   "execution_count": 41,
   "id": "abade374",
   "metadata": {},
   "outputs": [
    {
     "data": {
      "image/png": "[encoded data removed]",
      "text/plain": [
       "<Figure size 720x432 with 1 Axes>"
      ]
     },
     "metadata": {
      "needs_background": "light"
     },
     "output_type": "display_data"
    }
   ],
   "source": [
    "import json\n",
    "from collections import defaultdict\n",
    "import matplotlib.pyplot as plt\n",
    "\n",
    "# Charger les données JSON depuis un fichier\n",
    "with open('./images_data_view.json', 'r') as file:\n",
    "    data = json.load(file)\n",
    "\n",
    "# Créer un dictionnaire pour stocker le nombre d'images par année\n",
    "nombre_images_par_annee = defaultdict(int)\n",
    "\n",
    "# Parcourir chaque objet d'image dans les données\n",
    "for obj in data:\n",
    "    # Extraire l'année à partir du champ \"date_creation\" si disponible\n",
    "    date_creation = obj.get('date_creation')\n",
    "    if date_creation:\n",
    "        annee = date_creation.split(':')[0]\n",
    "        nombre_images_par_annee[annee] += 1\n",
    "\n",
    "# Trier les années par ordre décroissant\n",
    "annees = sorted(nombre_images_par_annee.keys(), reverse=True)\n",
    "nombre_images = [nombre_images_par_annee[annee] for annee in annees]\n",
    "\n",
    "# Créer le graphique\n",
    "plt.figure(figsize=(10, 6))\n",
    "plt.bar(annees, nombre_images, color='blue')\n",
    "plt.xlabel('Année')\n",
    "plt.ylabel('Nombre d\\'images')\n",
    "plt.title('Nombre d\\'images par année')\n",
    "plt.xticks(rotation=45, ha='right')  # Rotation des étiquettes pour éviter le chevauchement\n",
    "plt.tight_layout()  # Ajuster la disposition pour éviter le recouvrement des étiquettes\n",
    "plt.show()\n"
   ]
  },
  {
   "cell_type": "markdown",
   "id": "2c8d01b6",
   "metadata": {},
   "source": [
    "### Nombre d'images pour chaque couleur"
   ]
  },
  {
   "cell_type": "code",
   "execution_count": 45,
   "id": "8313444a",
   "metadata": {},
   "outputs": [
    {
     "data": {
      "image/png": "[encoded data removed]",
      "text/plain": [
       "<Figure size 1080x432 with 1 Axes>"
      ]
     },
     "metadata": {
      "needs_background": "light"
     },
     "output_type": "display_data"
    }
   ],
   "source": [
    "# Charger les données JSON depuis un fichier\n",
    "with open('./images_data_view.json', 'r') as file:\n",
    "    data = json.load(file)\n",
    "\n",
    "# Créer un dictionnaire pour stocker le nombre d'images par couleur\n",
    "nombre_images_par_couleur = defaultdict(int)\n",
    "\n",
    "# Parcourir chaque objet d'image dans les données\n",
    "for obj in data:\n",
    "    # Extraire les couleurs à partir du champ \"colors\" si disponible\n",
    "    couleurs = obj.get('colors')\n",
    "    if couleurs:\n",
    "        for couleur_liste in couleurs:\n",
    "            for couleur in couleur_liste:\n",
    "                nombre_images_par_couleur[couleur] += 1\n",
    "\n",
    "# Extraire les couleurs et le nombre d'images pour créer le graphique\n",
    "couleurs = list(nombre_images_par_couleur.keys())\n",
    "nombre_images = list(nombre_images_par_couleur.values())\n",
    "\n",
    "# Créer le graphique\n",
    "plt.figure(figsize=(15, 6))\n",
    "plt.bar(couleurs, nombre_images, color='blue')\n",
    "plt.xlabel('Couleurs')\n",
    "plt.ylabel('Nombre d\\'images')\n",
    "plt.title('Nombre d\\'images par couleur')\n",
    "plt.xticks(rotation=45, ha='right')  # Rotation des étiquettes pour éviter le chevauchement\n",
    "plt.tight_layout()  # Ajuster la disposition pour éviter le recouvrement des étiquettes\n",
    "plt.show()\n"
   ]
  },
  {
   "cell_type": "markdown",
   "id": "99308900",
   "metadata": {},
   "source": [
    "### Nombre d'images pour chaque modèle d'appareil photo"
   ]
  },
  {
   "cell_type": "code",
   "execution_count": 46,
   "id": "cd74473a",
   "metadata": {},
   "outputs": [
    {
     "name": "stderr",
     "output_type": "stream",
     "text": [
      "C:\\Users\\grego\\anaconda3\\lib\\site-packages\\matplotlib\\backends\\backend_agg.py:240: RuntimeWarning: Glyph 0 missing from current font.\n",
      "  font.set_text(s, 0.0, flags=flags)\n",
      "C:\\Users\\grego\\anaconda3\\lib\\site-packages\\matplotlib\\backends\\backend_agg.py:203: RuntimeWarning: Glyph 0 missing from current font.\n",
      "  font.set_text(s, 0, flags=flags)\n"
     ]
    },
    {
     "data": {
      "image/png": "[encoded data removed]",
      "text/plain": [
       "<Figure size 1080x432 with 1 Axes>"
      ]
     },
     "metadata": {
      "needs_background": "light"
     },
     "output_type": "display_data"
    }
   ],
   "source": [
    "# Charger les données JSON depuis un fichier\n",
    "with open('./images_data_view.json', 'r') as file:\n",
    "    data = json.load(file)\n",
    "\n",
    "# Créer un dictionnaire pour stocker le nombre d'images par modèle d'appareil photo\n",
    "nombre_images_par_modele_appareil = defaultdict(int)\n",
    "\n",
    "# Parcourir chaque objet d'image dans les données\n",
    "for obj in data:\n",
    "    # Extraire le modèle d'appareil photo à partir du champ \"modele_appareil\" si disponible\n",
    "    modele_appareil = obj.get('modele_appareil')\n",
    "    if modele_appareil:\n",
    "        nombre_images_par_modele_appareil[modele_appareil] += 1\n",
    "\n",
    "# Extraire les modèles d'appareil photo et le nombre d'images pour créer le graphique\n",
    "modeles_appareil = list(nombre_images_par_modele_appareil.keys())\n",
    "nombre_images = list(nombre_images_par_modele_appareil.values())\n",
    "\n",
    "# Créer le graphique\n",
    "plt.figure(figsize=(15, 6))\n",
    "plt.bar(modeles_appareil, nombre_images, color='blue')\n",
    "plt.xlabel('Modèle d\\'appareil photo')\n",
    "plt.ylabel('Nombre d\\'images')\n",
    "plt.title('Nombre d\\'images par modèle d\\'appareil photo')\n",
    "plt.xticks(rotation=45, ha='right')  # Rotation des étiquettes pour éviter le chevauchement\n",
    "plt.tight_layout()  # Ajuster la disposition pour éviter le recouvrement des étiquettes\n",
    "plt.show()\n"
   ]
  },
  {
   "cell_type": "markdown",
   "id": "53e4b741",
   "metadata": {},
   "source": [
    "### Nombre d'images par type d'orientation "
   ]
  },
  {
   "cell_type": "markdown",
   "id": "719130f0",
   "metadata": {},
   "source": [
    "#### L'intégralité de nos images sont au format \"Paysage\""
   ]
  },
  {
   "cell_type": "code",
   "execution_count": null,
   "id": "e29ee70c",
   "metadata": {},
   "outputs": [],
   "source": []
  },
  {
   "cell_type": "code",
   "execution_count": null,
   "id": "209f1c97",
   "metadata": {},
   "outputs": [],
   "source": []
  },
  {
   "cell_type": "code",
   "execution_count": null,
   "id": "4dfd5e5d",
   "metadata": {},
   "outputs": [],
   "source": []
  },
  {
   "cell_type": "code",
   "execution_count": null,
   "id": "0bd9baca",
   "metadata": {},
   "outputs": [],
   "source": []
  },
  {
   "cell_type": "code",
   "execution_count": null,
   "id": "1764182d",
   "metadata": {},
   "outputs": [],
   "source": []
  },
  {
   "cell_type": "code",
   "execution_count": null,
   "id": "7665f4ab",
   "metadata": {},
   "outputs": [],
   "source": []
  },
  {
   "cell_type": "code",
   "execution_count": null,
   "id": "156c497a",
   "metadata": {},
   "outputs": [],
   "source": []
  },
  {
   "cell_type": "code",
   "execution_count": null,
   "id": "d577604e",
   "metadata": {},
   "outputs": [],
   "source": []
  }
 ],
 "metadata": {
  "kernelspec": {
   "display_name": "Python 3 (ipykernel)",
   "language": "python",
   "name": "python3"
  },
  "language_info": {
   "codemirror_mode": {
    "name": "ipython",
    "version": 3
   },
   "file_extension": ".py",
   "mimetype": "text/x-python",
   "name": "python",
   "nbconvert_exporter": "python",
   "pygments_lexer": "ipython3",
   "version": "3.9.7"
  }
 },
 "nbformat": 4,
 "nbformat_minor": 5
}
