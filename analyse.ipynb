{
 "cells": [
  {
   "cell_type": "code",
   "execution_count": 1,
   "id": "b3bd2e7d-a7a1-4c8b-b066-7bea3869b778",
   "metadata": {},
   "outputs": [],
   "source": [
    "import ipywidgets as widgets\n",
    "from os import listdir\n"
   ]
  },
  {
   "cell_type": "markdown",
   "id": "5f4d6459-5a32-48c2-9814-10ad20ebbc30",
   "metadata": {},
   "source": [
    "# Récupère le nom des images"
   ]
  },
  {
   "cell_type": "code",
   "execution_count": 10,
   "id": "cb60e5fa-3e7f-47c3-a2cb-fe647b120cb1",
   "metadata": {},
   "outputs": [],
   "source": [
    "import json\n",
    "from os import listdir\n",
    "import os\n",
    "\n",
    "# Chemin du dossier contenant les images\n",
    "dossier_images = \"images\"\n",
    "\n",
    "# Liste pour stocker les noms des images\n",
    "image_names = []\n",
    "\n",
    "# Vérification si le dossier existe\n",
    "if os.path.exists(dossier_images) and os.path.isdir(dossier_images):\n",
    "    # Parcours des fichiers dans le dossier\n",
    "    for fichier in os.listdir(dossier_images):\n",
    "        # Vérification si le fichier est une image (extension .jpg, .png, .jpeg, etc.)\n",
    "        if fichier.endswith(('.jpg', '.jpeg', '.png', '.gif')):\n",
    "            # Ajout du nom du fichier à la liste\n",
    "            image_names.append(fichier)\n",
    "\n",
    "# Limiter le nombre d'images à 30\n",
    "image_names = image_names[:30]\n",
    "\n",
    "# Construire la liste complète des chemins d'accès aux images\n",
    "images = [\"./Images/\" + name for name in image_names]"
   ]
  },
  {
   "cell_type": "code",
   "execution_count": 11,
   "id": "df87dc63-b525-4c50-9f8f-d6532d79ac10",
   "metadata": {},
   "outputs": [
    {
     "data": {
      "text/plain": [
       "['./Images/Image_150.jpg',\n",
       " './Images/Image_144.jpg',\n",
       " './Images/Image_29.jpg',\n",
       " './Images/Image_28.jpg',\n",
       " './Images/Image_14.jpg',\n",
       " './Images/Image_145.jpg',\n",
       " './Images/Image_16.jpg',\n",
       " './Images/Image_146.jpg',\n",
       " './Images/Image_142.jpg',\n",
       " './Images/Image_13.jpg',\n",
       " './Images/Image_12.jpg',\n",
       " './Images/Image_143.jpg',\n",
       " './Images/Image_141.jpg',\n",
       " './Images/Image_38.jpg',\n",
       " './Images/Image_10.jpg',\n",
       " './Images/Image_11.jpg',\n",
       " './Images/Image_39.jpg',\n",
       " './Images/Image_140.jpg',\n",
       " './Images/Image_133.jpg',\n",
       " './Images/Image_127.jpg',\n",
       " './Images/Image_76.jpg',\n",
       " './Images/Image_62.jpg',\n",
       " './Images/Image_89.jpg',\n",
       " './Images/Image_88.jpg',\n",
       " './Images/Image_63.jpg',\n",
       " './Images/Image_77.jpg',\n",
       " './Images/Image_126.jpg',\n",
       " './Images/Image_132.jpg',\n",
       " './Images/Image_130.jpg',\n",
       " './Images/Image_61.jpg']"
      ]
     },
     "execution_count": 11,
     "metadata": {},
     "output_type": "execute_result"
    }
   ],
   "source": [
    "images"
   ]
  },
  {
   "cell_type": "markdown",
   "id": "8246bbc8-ae5c-40de-a6e6-db5fe08419ef",
   "metadata": {},
   "source": [
    "# Interface pour sélectionner les images favorites"
   ]
  },
  {
   "cell_type": "code",
   "execution_count": 12,
   "id": "d7f4f854-e027-4a2d-823b-3366be22c002",
   "metadata": {},
   "outputs": [
    {
     "data": {
      "application/vnd.jupyter.widget-view+json": {
       "model_id": "86b1d1edd94e441caba480287da800ea",
       "version_major": 2,
       "version_minor": 0
      },
      "text/plain": [
       "GridspecLayout(children=(Image(value=b'\\xff\\xd8\\xff\\xe0\\x00\\x10JFIF\\x00\\x01\\x01\\x00\\x00H\\x00H\\x00\\x00\\xff\\xe1\\…"
      ]
     },
     "metadata": {},
     "output_type": "display_data"
    },
    {
     "data": {
      "application/vnd.jupyter.widget-view+json": {
       "model_id": "ca8e4c42d3c74294be0d9f971ebb8e3f",
       "version_major": 2,
       "version_minor": 0
      },
      "text/plain": [
       "Button(description='Select', style=ButtonStyle())"
      ]
     },
     "metadata": {},
     "output_type": "display_data"
    },
    {
     "data": {
      "application/vnd.jupyter.widget-view+json": {
       "model_id": "c48fa05d1a23408395637aac59eead7e",
       "version_major": 2,
       "version_minor": 0
      },
      "text/plain": [
       "Output()"
      ]
     },
     "metadata": {},
     "output_type": "display_data"
    }
   ],
   "source": [
    "from ipywidgets import GridspecLayout, Image, interact\n",
    "favorite_images = []\n",
    "\n",
    "checkboxes = [widgets.Checkbox(value=False, description='Favorite') for _ in range(len(images))]\n",
    "\n",
    "# Create the GridspecLayout widget\n",
    "layout = GridspecLayout(n_columns=2, n_rows=len(images), width='400px')\n",
    "for i, (img, checkbox) in enumerate(zip(images, checkboxes)):\n",
    "  file = open(img, \"rb\")\n",
    "  image = file.read()\n",
    "  image_widget = widgets.Image(\n",
    "    value=image,\n",
    "    format='png',\n",
    "    width=100,\n",
    "    height=100,\n",
    "  )\n",
    "  layout[i,0] = image_widget\n",
    "  layout[i, 1] = checkbox\n",
    "\n",
    "# Button to get selected images\n",
    "button = widgets.Button(description=\"Select\")\n",
    "\n",
    "# Output widget to display selected images\n",
    "output = widgets.Output()\n",
    "\n",
    "# Function to get selected images\n",
    "def get_selected_images(btn):\n",
    "    global favorite_images\n",
    "    favorite_images = []\n",
    "    selected_paths = [images[i] for i, checkbox in enumerate(checkboxes) if checkbox.value]\n",
    "    with output:\n",
    "        output.clear_output()\n",
    "        print(\"Selected Images:\")\n",
    "        for path in selected_paths:\n",
    "            print(path)\n",
    "            favorite_images.append(path)        \n",
    "\n",
    "# Link button click event to function\n",
    "button.on_click(get_selected_images)\n",
    "\n",
    "# Display the layout and button\n",
    "display(layout, button, output)"
   ]
  },
  {
   "cell_type": "markdown",
   "id": "f9652b30-7ad0-4a2c-833a-34f0a505c904",
   "metadata": {},
   "source": [
    "# Afficher les images favorites"
   ]
  },
  {
   "cell_type": "code",
   "execution_count": 16,
   "id": "a375273e-bfd7-45c9-ad9f-11501992fdd3",
   "metadata": {},
   "outputs": [
    {
     "data": {
      "application/vnd.jupyter.widget-view+json": {
       "model_id": "73ccff69997345288d502e670da5eb5d",
       "version_major": 2,
       "version_minor": 0
      },
      "text/plain": [
       "GridspecLayout(children=(Image(value=b'\\xff\\xd8\\xff\\xe1\\x1a\\xb4Exif\\x00\\x00MM\\x00*\\x00\\x00\\x00\\x08\\x00\\x0f\\x01…"
      ]
     },
     "metadata": {},
     "output_type": "display_data"
    }
   ],
   "source": [
    "layout = GridspecLayout(n_columns=3, n_rows=len(images)//3, width='400px')\n",
    "\n",
    "for i, img in enumerate(favorite_images):\n",
    "    with open(img, \"rb\") as file:\n",
    "        image = file.read()\n",
    "        \n",
    "    image_widget = Image(\n",
    "        value=image,\n",
    "        format='png',\n",
    "        width=100,\n",
    "        height=100,\n",
    "    )\n",
    "    \n",
    "    row = i // 3  # Divise i par 2 pour obtenir le numéro de la ligne\n",
    "    col = i % 3   # Prend le reste de la division de i par 2 pour obtenir le numéro de la colonne\n",
    "    \n",
    "    layout[row, col] = image_widget\n",
    "\n",
    "display(layout)\n"
   ]
  },
  {
   "cell_type": "markdown",
   "id": "43cf086b-8ea3-47fc-9e97-8bf8ea5cd2f2",
   "metadata": {},
   "source": [
    "# Algo calcul des préférences "
   ]
  },
  {
   "cell_type": "markdown",
   "id": "d90e58a7-d6ff-4bc2-ade4-b930070f6245",
   "metadata": {},
   "source": [
    "## Tags des images favorites"
   ]
  },
  {
   "cell_type": "code",
   "execution_count": 23,
   "id": "d91fe300-19c1-4453-bcf3-5eb53955b828",
   "metadata": {},
   "outputs": [
    {
     "name": "stdout",
     "output_type": "stream",
     "text": [
      "[None, None, 'paysage']\n",
      "[None, None, 'paysage']\n",
      "[None, None, 'paysage']\n",
      "[None, None, 'paysage']\n",
      "[None, None, 'paysage']\n",
      "[None, None, 'paysage']\n",
      "[None, None, 'paysage']\n",
      "[None, None, 'paysage']\n"
     ]
    }
   ],
   "source": [
    "import json\n",
    "\n",
    "favorite_images_without_extension = []\n",
    "\n",
    "# Boucle pour retirer l'extension des noms d'images\n",
    "for nom_image in favorite_images:\n",
    "    nom_sans_extension, extension = os.path.splitext(nom_image)\n",
    "    favorite_images_without_extension.append(nom_sans_extension)\n",
    "\n",
    "file_names = [image.split(\"/\")[-1] for image in favorite_images_without_extension]\n",
    "\n",
    "json_file_path = \"images_data.json\"\n",
    "\n",
    "with open(json_file_path, \"r\") as file:\n",
    "    data_json = json.load(file)\n",
    "\n",
    "data = []\n",
    "color1 = None\n",
    "color2 = None\n",
    "\n",
    "# Récupérer les données pour chaque image dans file_names\n",
    "for file_name in file_names:\n",
    "    image_data = data_json.get(file_name)\n",
    "    if image_data:\n",
    "        # Extraire les informations nécessaires pour chaque image\n",
    "        couleur_name = image_data.get(\"couleurs_predominante_name\", [])\n",
    "        if len(couleur_name) >= 1:\n",
    "            color1 = couleur_name[0]\n",
    "        if len(couleur_name) >= 2:\n",
    "            color2 = couleur_name[1]\n",
    "        orientation = image_data.get(\"orientation\", \"\")\n",
    "        data.append([color1,color2, orientation])\n",
    "\n",
    "for item in data:\n",
    "    print(item)\n",
    "\n"
   ]
  },
  {
   "cell_type": "markdown",
   "id": "1682af94-6ba9-4e93-aa39-cb7688c82ad2",
   "metadata": {},
   "source": [
    "## Tag favori"
   ]
  },
  {
   "cell_type": "code",
   "execution_count": 1,
   "id": "ff6ec763-dfe1-4384-9e84-9b9efa479c57",
   "metadata": {},
   "outputs": [
    {
     "ename": "NameError",
     "evalue": "name 'data' is not defined",
     "output_type": "error",
     "traceback": [
      "\u001b[0;31m---------------------------------------------------------------------------\u001b[0m",
      "\u001b[0;31mNameError\u001b[0m                                 Traceback (most recent call last)",
      "Cell \u001b[0;32mIn[1], line 6\u001b[0m\n\u001b[1;32m      3\u001b[0m \u001b[38;5;28;01mimport\u001b[39;00m \u001b[38;5;21;01mpandas\u001b[39;00m \u001b[38;5;28;01mas\u001b[39;00m \u001b[38;5;21;01mpd\u001b[39;00m\n\u001b[1;32m      5\u001b[0m \u001b[38;5;66;03m# Encode categorical features\u001b[39;00m\n\u001b[0;32m----> 6\u001b[0m label_encoders \u001b[38;5;241m=\u001b[39m [LabelEncoder() \u001b[38;5;28;01mfor\u001b[39;00m _ \u001b[38;5;129;01min\u001b[39;00m \u001b[38;5;28mrange\u001b[39m(\u001b[38;5;28mlen\u001b[39m(\u001b[43mdata\u001b[49m[\u001b[38;5;241m0\u001b[39m]))]\n\u001b[1;32m      7\u001b[0m encoded_data \u001b[38;5;241m=\u001b[39m []\n\u001b[1;32m      8\u001b[0m \u001b[38;5;28;01mfor\u001b[39;00m i, column \u001b[38;5;129;01min\u001b[39;00m \u001b[38;5;28menumerate\u001b[39m(\u001b[38;5;28mzip\u001b[39m(\u001b[38;5;241m*\u001b[39mdata)):\n",
      "\u001b[0;31mNameError\u001b[0m: name 'data' is not defined"
     ]
    }
   ],
   "source": [
    "from sklearn.cluster import KMeans\n",
    "from sklearn.preprocessing import LabelEncoder\n",
    "import pandas as pd\n",
    "\n",
    "# Encode categorical features\n",
    "label_encoders = [LabelEncoder() for _ in range(len(data[0]))]\n",
    "encoded_data = []\n",
    "for i, column in enumerate(zip(*data)):\n",
    "    encoded_data.append(label_encoders[i].fit_transform(column))\n",
    "\n",
    "X = list(zip(*encoded_data))  # Features\n",
    "\n",
    "# Clustering\n",
    "k = 2  # Number of clusters\n",
    "kmeans = KMeans(n_clusters=k, n_init=10)\n",
    "kmeans.fit(X)\n",
    "clusters = kmeans.labels_\n",
    "\n",
    "# Add cluster labels to the original data\n",
    "data_with_clusters = pd.DataFrame(data, columns=[\"Color\", \"Category\", \"Size\", \"Type\"])\n",
    "data_with_clusters[\"Cluster\"] = clusters\n",
    "\n",
    "# Recommendation function\n",
    "def recommend_items(cluster, data_with_clusters):\n",
    "    items_in_cluster = data_with_clusters[data_with_clusters[\"Cluster\"] == cluster]\n",
    "    recommended_items = items_in_cluster.sample(n=5)  # Sample 3 items from the cluster\n",
    "    return recommended_items\n",
    "\n",
    "# Example usage\n",
    "user_interaction = [\"green\", \"nature\", \"thumbnail\", \"landscape\"]  # Assuming user interacted with this item\n",
    "encoded_interaction = [label_encoders[i].transform([val])[0] for i, val in enumerate(user_interaction)]\n",
    "cluster = kmeans.predict([encoded_interaction])[0]\n",
    "recommendations = recommend_items(cluster, data_with_clusters)\n",
    "print(\"Recommended items:\")\n",
    "print(recommendations)"
   ]
  },
  {
   "cell_type": "code",
   "execution_count": null,
   "id": "94f5be0e-8053-47fb-a592-cf5dd1e61716",
   "metadata": {},
   "outputs": [],
   "source": []
  }
 ],
 "metadata": {
  "kernelspec": {
   "display_name": "Python 3 (ipykernel)",
   "language": "python",
   "name": "python3"
  },
  "language_info": {
   "codemirror_mode": {
    "name": "ipython",
    "version": 3
   },
   "file_extension": ".py",
   "mimetype": "text/x-python",
   "name": "python",
   "nbconvert_exporter": "python",
   "pygments_lexer": "ipython3",
   "version": "3.11.7"
  }
 },
 "nbformat": 4,
 "nbformat_minor": 5
}
